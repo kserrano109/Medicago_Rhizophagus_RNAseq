{
 "cells": [
  {
   "cell_type": "code",
   "execution_count": 1,
   "id": "9c4cd4a3-c3d8-48f6-8a0b-dcabfe46a43c",
   "metadata": {},
   "outputs": [
    {
     "name": "stderr",
     "output_type": "stream",
     "text": [
      "Attaching SeuratObject\n",
      "\n",
      "Attaching sp\n",
      "\n",
      "\n",
      "Attaching package: ‘dplyr’\n",
      "\n",
      "\n",
      "The following objects are masked from ‘package:stats’:\n",
      "\n",
      "    filter, lag\n",
      "\n",
      "\n",
      "The following objects are masked from ‘package:base’:\n",
      "\n",
      "    intersect, setdiff, setequal, union\n",
      "\n",
      "\n",
      "here() starts at /global/u1/k/kserrano/Desktop\n",
      "\n",
      "── \u001b[1mAttaching packages\u001b[22m ─────────────────────────────────────── tidyverse 1.3.1 ──\n",
      "\n",
      "\u001b[32m✔\u001b[39m \u001b[34mtibble \u001b[39m 3.1.8     \u001b[32m✔\u001b[39m \u001b[34mpurrr  \u001b[39m 0.3.5\n",
      "\u001b[32m✔\u001b[39m \u001b[34mtidyr  \u001b[39m 1.2.1     \u001b[32m✔\u001b[39m \u001b[34mstringr\u001b[39m 1.4.1\n",
      "\u001b[32m✔\u001b[39m \u001b[34mreadr  \u001b[39m 2.1.3     \u001b[32m✔\u001b[39m \u001b[34mforcats\u001b[39m 0.5.2\n",
      "\n",
      "── \u001b[1mConflicts\u001b[22m ────────────────────────────────────────── tidyverse_conflicts() ──\n",
      "\u001b[31m✖\u001b[39m \u001b[34mdplyr\u001b[39m::\u001b[32mfilter()\u001b[39m masks \u001b[34mstats\u001b[39m::filter()\n",
      "\u001b[31m✖\u001b[39m \u001b[34mdplyr\u001b[39m::\u001b[32mlag()\u001b[39m    masks \u001b[34mstats\u001b[39m::lag()\n",
      "\n",
      "Loading required package: viridisLite\n",
      "\n"
     ]
    }
   ],
   "source": [
    "#This is the script for spatial object integration and analysis\n",
    "#loading in the necessary packages\n",
    "##the last line here is a workaround for memory requirements Mac\n",
    "library(Seurat)\n",
    "library(ggplot2)\n",
    "library(patchwork)\n",
    "library(dplyr)\n",
    "library(here)\n",
    "library(tidyverse)\n",
    "library(viridis)\n",
    "library(RColorBrewer)\n",
    "options (future.globals.maxSize = 4000 * 1024^5)"
   ]
  },
  {
   "cell_type": "code",
   "execution_count": 2,
   "id": "86887f10-32e8-4f6a-ad14-83668cbb6dfc",
   "metadata": {
    "tags": []
   },
   "outputs": [],
   "source": [
    "#colors for UMAP plots\n",
    "farmer_colors = c(\"#FF9999\", \"#FF6666\", \"#FFCC66\", \"#FF6699\", \"#CC99FF\", \"#CC6699\", \n",
    "                  \"#99CCFF\", \"#ff9933\", \"#FF99FF\", \"#FF99CC\", \"#99CCCC\", \"#66CC99\", \n",
    "                  \"#CC6600\", \"#FFCCCC\", \"#339966\", \"#CCCCCC\", \"#CC9999\", \"#996666\", \"#FFFF99\")"
   ]
  },
  {
   "cell_type": "code",
   "execution_count": 2,
   "id": "3114e449-42d2-464e-ae99-a8f506ecd40a",
   "metadata": {},
   "outputs": [],
   "source": [
    "#loading in pre-filtered spatial objects\n",
    "B1 <- readRDS('/global/homes/k/kserrano/Desktop/Spatial_Objects/B1.rds')\n",
    "A2 <- readRDS('/global/homes/k/kserrano/Desktop/Spatial_Objects/A2.rds')\n",
    "B2 <- readRDS('/global/homes/k/kserrano/Desktop/Spatial_Objects/B2.rds')\n",
    "C2 <- readRDS('/global/homes/k/kserrano/Desktop/Spatial_Objects/C2.rds')\n",
    "D2 <- readRDS('/global/homes/k/kserrano/Desktop/Spatial_Objects/D2.rds')\n",
    "A3 <- readRDS('/global/homes/k/kserrano/Desktop/Spatial_Objects/A3.rds')\n",
    "B3 <- readRDS('/global/homes/k/kserrano/Desktop/Spatial_Objects/B3.rds')\n",
    "C3 <- readRDS('/global/homes/k/kserrano/Desktop/Spatial_Objects/C3.rds')\n",
    "D3 <- readRDS('/global/homes/k/kserrano/Desktop/Spatial_Objects/D3.rds')\n",
    "A4 <- readRDS('/global/homes/k/kserrano/Desktop/Spatial_Objects/A4.rds')\n",
    "B4 <- readRDS('/global/homes/k/kserrano/Desktop/Spatial_Objects/B4.rds')\n",
    "C4 <- readRDS('/global/homes/k/kserrano/Desktop/Spatial_Objects/C4.rds')\n",
    "D4 <- readRDS('/global/homes/k/kserrano/Desktop/Spatial_Objects/D4.rds')\n",
    "A5 <- readRDS('/global/homes/k/kserrano/Desktop/Spatial_Objects/A5.rds')\n",
    "B5 <- readRDS('/global/homes/k/kserrano/Desktop/Spatial_Objects/B5.rds')\n",
    "C5 <- readRDS('/global/homes/k/kserrano/Desktop/Spatial_Objects/C5.rds')\n",
    "D5 <- readRDS('/global/homes/k/kserrano/Desktop/Spatial_Objects/D5.rds')\n",
    "\n",
    "#adding in original identity metadata\n",
    "B1@meta.data['dataset'] = 'B1'\n",
    "A2@meta.data['dataset'] = 'A2'\n",
    "B2@meta.data['dataset'] = 'B2'\n",
    "C2@meta.data['dataset'] = 'C2'\n",
    "D2@meta.data['dataset'] = 'D2'\n",
    "A3@meta.data['dataset'] = 'A3'\n",
    "B3@meta.data['dataset'] = 'B3'\n",
    "C3@meta.data['dataset'] = 'C3'\n",
    "D3@meta.data['dataset'] = 'D3'\n",
    "A4@meta.data['dataset'] = 'A4'\n",
    "B4@meta.data['dataset'] = 'B4'\n",
    "C4@meta.data['dataset'] = 'C4'\n",
    "D4@meta.data['dataset'] = 'D4'\n",
    "A5@meta.data['dataset'] = 'A5'\n",
    "B5@meta.data['dataset'] = 'B5'\n",
    "C5@meta.data['dataset'] = 'C5'\n",
    "D5@meta.data['dataset'] = 'D5'\n",
    "\n",
    "\n",
    "#assigning objects to lists for integration\n",
    "#wt = all wild type capture area, both treatments\n",
    "#myc = mycorrhizal treated capture areas\n",
    "#ctrl = mock-inoculated capture areas\n",
    "wt.list <-c(B1,A2,B2,C2,D2,A3,B3,C3,D3,A4,B4,C4,D4,A5,B5,C5,D5)\n",
    "myc.list <- c(B1,A2,B2,C2,D2,A3,B3,C3,D3)\n",
    "ctrl.list <- c(A4,B4,C4,D4,A5,B5,C5,D5)"
   ]
  },
  {
   "cell_type": "code",
   "execution_count": 3,
   "id": "d0c20a84-c149-4ff1-a6d1-208f96254b25",
   "metadata": {},
   "outputs": [],
   "source": [
    "#prepping for integration, selecting features to keep\n",
    "wt.features <- SelectIntegrationFeatures(wt.list, nfeatures = 3000)\n",
    "myc.features <- SelectIntegrationFeatures(myc.list, nfeatures = 3000)\n",
    "ctrl.features <- SelectIntegrationFeatures(ctrl.list, nfeatures = 3000)\n",
    "\n",
    "#getting a list of all unique genes from each list for use as anchors later\n",
    "all.wt.genes <- lapply(wt.list, row.names) %>% Reduce(c, .) %>% unique()\n",
    "all.myc.genes <- lapply(myc.list, row.names) %>% Reduce(c, .) %>% unique()\n",
    "all.ctrl.genes <- lapply(ctrl.list, row.names) %>% Reduce(c, .) %>% unique()\n",
    "\n",
    "#prepSCTIntegration\n",
    "wt.list <-PrepSCTIntegration(wt.list, assay = NULL, anchor.features=wt.features, sct.clip.range = NULL,verbose = TRUE)\n",
    "myc.list <-PrepSCTIntegration(myc.list, assay = NULL, anchor.features=myc.features, sct.clip.range = NULL,verbose = TRUE)\n",
    "ctrl.list <-PrepSCTIntegration(ctrl.list, assay = NULL, anchor.features=ctrl.features, sct.clip.range = NULL,verbose = TRUE)"
   ]
  },
  {
   "cell_type": "code",
   "execution_count": null,
   "id": "2d783ccd-dfa2-4322-9ab6-125ca1a72084",
   "metadata": {},
   "outputs": [],
   "source": [
    "#finding anchors for all datasets\n",
    "#this takes A LONG TIME! to run, set verbose = TRUE for estimate\n",
    "wt.anchors <- FindIntegrationAnchors(object.list = wt.list, normalization.method = \"SCT\", anchor.features = wt.features, verbose = FALSE)\n",
    "saveRDS(wt.anchors, \"/global/homes/k/kserrano/Desktop/Integrated_Objects/wt.anchors.rds\")\n",
    "\n",
    "ctrl.anchors <- FindIntegrationAnchors(object.list = ctrl.list, normalization.method = \"SCT\", anchor.features = ctrl.features, verbose = FALSE)\n",
    "saveRDS(ctrl.anchors, \"/global/homes/k/kserrano/Desktop/Integrated_Objects/ctrl.anchors.rds\")\n",
    "\n",
    "myc.anchors <- FindIntegrationAnchors(object.list = myc.list, normalization.method = \"SCT\", anchor.features = myc.features, verbose = FALSE)\n",
    "saveRDS(myc.anchors, \"/global/homes/k/kserrano/Desktop/Integrated_Objects/myc.anchors.rds\")"
   ]
  },
  {
   "cell_type": "code",
   "execution_count": null,
   "id": "0b8621a0-2ac2-4112-9c74-2a0967c2549e",
   "metadata": {},
   "outputs": [],
   "source": [
    "#this takes an even longer time to run!\n",
    "#integrating each dataset individually\n",
    "wt.integrated <- IntegrateData(anchorset = wt.anchors, normalization.method = \"SCT\", verbose =  TRUE, features.to.integrate = all.wt.genes)"
   ]
  },
  {
   "cell_type": "code",
   "execution_count": null,
   "id": "e526fc87-f951-4e57-8352-3ae278f293bb",
   "metadata": {},
   "outputs": [],
   "source": [
    "#this takes an even longer time to run!\n",
    "#integrating each dataset individually\n",
    "ctrl.integrated <- IntegrateData(anchorset = ctrl.anchors, normalization.method = \"SCT\", verbose = TRUE, features.to.integrate = all.ctrl.genes)"
   ]
  },
  {
   "cell_type": "code",
   "execution_count": null,
   "id": "1dac3e3a-3c25-4fcd-b39e-4ebaa1c73e58",
   "metadata": {},
   "outputs": [],
   "source": [
    "#this takes an even longer time to run!\n",
    "#integrating each dataset individually\n",
    "myc.integrated <- IntegrateData(anchorset = myc.anchors, normalization.method = \"SCT\", verbose = FALSE, features.to.integrate = all.myc.genes)"
   ]
  },
  {
   "cell_type": "code",
   "execution_count": null,
   "id": "b63012ab-43e9-4329-867b-d48ede356305",
   "metadata": {},
   "outputs": [],
   "source": [
    "# specify that we will perform downstream analysis on the corrected data note that the\n",
    "# original unmodified data still resides in the 'Spatial' assay\n",
    "DefaultAssay(wt.integrated) <- \"integrated\"\n",
    "# Run the standard workflow for visualization and clustering, then save the integrated object!\n",
    "wt.integrated <- RunPCA(wt.integrated, npcs = 30, verbose = FALSE)\n",
    "wt.integrated <- RunUMAP(wt.integrated, reduction = \"pca\",verbose = FALSE, dims = 1:30, metric =\"cosine\")\n",
    "wt.integrated <- FindNeighbors(wt.integrated, reduction = \"pca\", dims = 1:30)\n",
    "wt.integrated <- FindClusters(wt.integrated, resolution = 0.5)\n",
    "saveRDS(wt.integrated, \"/global/homes/k/kserrano/Desktop/Integrated_Objects/wt.integrated.rds\")"
   ]
  },
  {
   "cell_type": "code",
   "execution_count": null,
   "id": "1bc23535-b3f1-4b28-939e-ceedabc5d2a3",
   "metadata": {},
   "outputs": [],
   "source": [
    "# Run the standard workflow for visualization and clustering, then save the integrated object!\n",
    "DefaultAssay(ctrl.integrated) <- \"integrated\"\n",
    "ctrl.integrated <- RunPCA(ctrl.integrated, npcs = 30, verbose = FALSE)\n",
    "ctrl.integrated <- RunUMAP(ctrl.integrated, reduction = \"pca\",verbose = FALSE, dims = 1:30, metric =\"cosine\")\n",
    "ctrl.integrated <- FindNeighbors(ctrl.integrated, reduction = \"pca\", dims = 1:30)\n",
    "ctrl.integrated<- FindClusters(ctrl.integrated, resolution = 0.5)\n",
    "saveRDS(ctrl.integrated, \"/global/homes/k/kserrano/Desktop/Integrated_Objects/ctrl.integrated.rds\")"
   ]
  },
  {
   "cell_type": "code",
   "execution_count": null,
   "id": "8708b1df-e219-484d-bf12-f635bdee385b",
   "metadata": {},
   "outputs": [],
   "source": [
    "# Run the standard workflow for visualization and clustering, then save the integrated object!\n",
    "DefaultAssay(myc.integrated) <- \"integrated\"\n",
    "# Run the standard workflow for visualization and clustering\n",
    "myc.integrated <- RunPCA(myc.integrated, npcs = 30, verbose = FALSE)\n",
    "myc.integrated <- RunUMAP(myc.integrated, reduction = \"pca\",verbose = FALSE, dims = 1:30, metric =\"cosine\")\n",
    "myc.integrated <- FindNeighbors(myc.integrated, reduction = \"pca\", dims = 1:30)\n",
    "myc.integrated <- FindClusters(myc.integrated, resolution = 0.5)\n",
    "saveRDS(myc.integrated, \"/global/homes/k/kserrano/Desktop/Integrated_Objects/myc.integrated.rds\")"
   ]
  },
  {
   "cell_type": "code",
   "execution_count": null,
   "id": "9ec3a503-2f78-49f0-a883-db1ac0907fed",
   "metadata": {},
   "outputs": [],
   "source": [
    "#Code for Figure S4 - a\n",
    "#UMAP plot of all datasets integrated, + grouped by dataset\n",
    "p00 <- DimPlot(wt.integrated, reduction = \"umap\", cols = farmer_colors)\n",
    "#Code for Figure S4 - b\n",
    "p01 <- DimPlot(wt.integrated, reduction = \"umap\", group.by = \"dataset\", cols = farmer_colors)\n",
    "p00+p01"
   ]
  },
  {
   "cell_type": "code",
   "execution_count": null,
   "id": "0efcb953-3a48-4d23-bd1d-d55445f01725",
   "metadata": {},
   "outputs": [],
   "source": [
    "#UMAP plot of all control datasets integrated,  + grouped by dataset\n",
    "p02 <- DimPlot(ctrl.integrated, reduction = \"umap\", cols = farmer_colors)\n",
    "p03 <- DimPlot(ctrl.integrated, reduction = \"umap\", group.by = \"dataset\", cols = farmer_colors)\n",
    "p02+p03"
   ]
  },
  {
   "cell_type": "code",
   "execution_count": null,
   "id": "448df19e-558c-4894-8393-16fddd50be75",
   "metadata": {
    "tags": []
   },
   "outputs": [],
   "source": [
    "#UMAP plot of all mycorrhizal datasets integrated, + grouped by dataset\n",
    "p04 <- DimPlot(myc.integrated, reduction = \"umap\", cols = farmer_colors)\n",
    "p05 <- DimPlot(myc.integrated, reduction = \"umap\", group.by = \"dataset\", cols = farmer_colors)\n",
    "p04+p05"
   ]
  }
 ],
 "metadata": {
  "kernelspec": {
   "display_name": "seurat_shifter",
   "language": "R",
   "name": "seurat-shifter"
  },
  "language_info": {
   "codemirror_mode": "r",
   "file_extension": ".r",
   "mimetype": "text/x-r-source",
   "name": "R",
   "pygments_lexer": "r",
   "version": "4.2.3"
  }
 },
 "nbformat": 4,
 "nbformat_minor": 5
}
