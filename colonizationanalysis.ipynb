{
 "cells": [
  {
   "cell_type": "code",
   "execution_count": 3,
   "id": "fdae60cf-e6fe-4cb2-8645-08622f589fbd",
   "metadata": {},
   "outputs": [],
   "source": [
    "#loading in packages and robjects\n",
    "#loading necessary packages\n",
    "library(Seurat)\n",
    "library(ggplot2)\n",
    "library(patchwork)\n",
    "library(dplyr)\n",
    "library(here)\n",
    "library(tidyverse)\n",
    "library(viridis)\n",
    "library(RColorBrewer)\n",
    "library(datasets)\n",
    "library(readxl)\n",
    "library(lattice)                              \n",
    "library(reshape2)"
   ]
  },
  {
   "cell_type": "code",
   "execution_count": 4,
   "id": "b9be91c3-5579-4bc3-9b05-2ac22bd384d9",
   "metadata": {},
   "outputs": [
    {
     "name": "stdout",
     "output_type": "stream",
     "text": [
      "'data.frame':\t20 obs. of  3 variables:\n",
      " $ Sample: chr  \"Control\" \"Control\" \"Control\" \"Control\" ...\n",
      " $ MtPT4 : num  0.22 0.84 0.15 -0.86 -0.35 1.65 1.66 2.39 0.35 3.37 ...\n",
      " $ RiTUB : num  0.41 -0.08 -0.09 -5.47 -0.84 2.83 2.82 3.63 0.23 5.26 ...\n"
     ]
    },
    {
     "data": {
      "text/plain": [
       "            Df Sum Sq Mean Sq F value   Pr(>F)    \n",
       "Sample       1  27.78  27.777   34.18 1.55e-05 ***\n",
       "Residuals   18  14.63   0.813                     \n",
       "---\n",
       "Signif. codes:  0 ‘***’ 0.001 ‘**’ 0.01 ‘*’ 0.05 ‘.’ 0.1 ‘ ’ 1"
      ]
     },
     "metadata": {},
     "output_type": "display_data"
    },
    {
     "data": {
      "text/plain": [
       "            Df Sum Sq Mean Sq F value   Pr(>F)    \n",
       "Sample       1  91.98   91.98   29.63 3.59e-05 ***\n",
       "Residuals   18  55.87    3.10                     \n",
       "---\n",
       "Signif. codes:  0 ‘***’ 0.001 ‘**’ 0.01 ‘*’ 0.05 ‘.’ 0.1 ‘ ’ 1"
      ]
     },
     "metadata": {},
     "output_type": "display_data"
    },
    {
     "name": "stdout",
     "output_type": "stream",
     "text": [
      "'data.frame':\t40 obs. of  3 variables:\n",
      " $ Sample  : chr  \"Control\" \"Control\" \"Control\" \"Control\" ...\n",
      " $ variable: Factor w/ 2 levels \"MtPT4\",\"RiTUB\": 1 1 1 1 1 1 1 1 1 1 ...\n",
      " $ value   : num  0.22 0.84 0.15 -0.86 -0.35 1.65 1.66 2.39 0.35 3.37 ...\n"
     ]
    },
    {
     "name": "stderr",
     "output_type": "stream",
     "text": [
      "Warning message:\n",
      "“Removed 1 rows containing non-finite values (stat_boxplot).”\n",
      "Warning message:\n",
      "“Removed 1 rows containing non-finite values (stat_boxplot).”\n",
      "Warning message:\n",
      "“Removed 1 rows containing non-finite values (stat_boxplot).”\n",
      "Warning message:\n",
      "“Removed 1 rows containing non-finite values (stat_boxplot).”\n"
     ]
    },
    {
     "data": {
      "text/html": [
       "<strong>png:</strong> 2"
      ],
      "text/latex": [
       "\\textbf{png:} 2"
      ],
      "text/markdown": [
       "**png:** 2"
      ],
      "text/plain": [
       "png \n",
       "  2 "
      ]
     },
     "metadata": {},
     "output_type": "display_data"
    },
    {
     "data": {
      "image/png": "[encoded data removed]",
      "text/plain": [
       "plot without title"
      ]
     },
     "metadata": {
      "image/png": {
       "height": 420,
       "width": 420
      }
     },
     "output_type": "display_data"
    }
   ],
   "source": [
    "#Supplemental Figure 2 panel a\n",
    "qpcr <- read.csv(\"/global/homes/k/kserrano/Desktop/qpcr1.csv\")\n",
    "str(qpcr)\n",
    "\n",
    "# analysis of variance\n",
    "anova1 <- aov(MtPT4 ~ Sample, data = qpcr)\n",
    "summary(anova1)\n",
    "anova2 <- aov(RiTUB ~ Sample, data = qpcr)\n",
    "summary(anova2)\n",
    "\n",
    "#reshaping data into long format\n",
    "qpcr_long <- melt(qpcr, id = \"Sample\")                      \n",
    "str(qpcr_long)\n",
    "\n",
    "#plotting, got rid of one outlier\n",
    "ggplot(qpcr_long, aes(x=factor(variable), y= value, fill=factor(Sample))) +\n",
    "  geom_boxplot() +\n",
    "  stat_boxplot(geom='errorbar') +\n",
    "  theme_bw() +\n",
    "  theme(panel.grid.major = element_blank(), panel.grid.minor = element_blank()) +\n",
    "  labs(x=\"Gene\", y=\"log(2^-∆∆Ct)\") +\n",
    "  scale_fill_manual(values=c(\"#FFCC66\", \"#CC99FF\")) + \n",
    " ylim(-2,6)\n",
    "\n",
    "#saving\n",
    "svg(\"qpcr.svg\")\n",
    "\n",
    "# Code of the plot\n",
    "ggplot(qpcr_long, aes(x=factor(variable), y= value, fill=factor(Sample))) +\n",
    "  geom_boxplot() +\n",
    "  stat_boxplot(geom='errorbar') +\n",
    "  theme_bw() +\n",
    "  theme(panel.grid.major = element_blank(), panel.grid.minor = element_blank()) +\n",
    "  labs(x=\"Gene\", y=\"log(2^-∆∆Ct)\") +\n",
    "  scale_fill_manual(values=c(\"#FFCC66\", \"#CC99FF\")) + \n",
    " ylim(-2,6)\n",
    "\n",
    "# Close the graphics device\n",
    "dev.off() "
   ]
  },
  {
   "cell_type": "code",
   "execution_count": 5,
   "id": "94d5ce6c-efd8-4804-907b-0bf54348b960",
   "metadata": {},
   "outputs": [
    {
     "name": "stdout",
     "output_type": "stream",
     "text": [
      "'data.frame':\t20 obs. of  6 variables:\n",
      " $ Treatment: chr  \"Control\" \"Control\" \"Control\" \"Control\" ...\n",
      " $ F        : num  0 0 1.67 1.67 6.67 ...\n",
      " $ M        : num  0 0 0.02 0.02 0.33 ...\n",
      " $ A        : num  0 0 0 0 0 ...\n",
      " $ H        : num  0 0 0 0 0.03 ...\n",
      " $ V        : num  0 0 0 0 0 0.05 1.5 6.95 0 7.42 ...\n"
     ]
    },
    {
     "data": {
      "text/plain": [
       "            Df Sum Sq Mean Sq F value   Pr(>F)    \n",
       "Treatment    1  35981   35981   478.8 2.03e-14 ***\n",
       "Residuals   18   1353      75                     \n",
       "---\n",
       "Signif. codes:  0 ‘***’ 0.001 ‘**’ 0.01 ‘*’ 0.05 ‘.’ 0.1 ‘ ’ 1"
      ]
     },
     "metadata": {},
     "output_type": "display_data"
    },
    {
     "data": {
      "text/plain": [
       "            Df Sum Sq Mean Sq F value   Pr(>F)    \n",
       "Treatment    1  14421   14421   194.4 4.35e-11 ***\n",
       "Residuals   18   1335      74                     \n",
       "---\n",
       "Signif. codes:  0 ‘***’ 0.001 ‘**’ 0.01 ‘*’ 0.05 ‘.’ 0.1 ‘ ’ 1"
      ]
     },
     "metadata": {},
     "output_type": "display_data"
    },
    {
     "data": {
      "text/plain": [
       "            Df Sum Sq Mean Sq F value   Pr(>F)    \n",
       "Treatment    1  11906   11906   109.5 4.41e-09 ***\n",
       "Residuals   18   1957     109                     \n",
       "---\n",
       "Signif. codes:  0 ‘***’ 0.001 ‘**’ 0.01 ‘*’ 0.05 ‘.’ 0.1 ‘ ’ 1"
      ]
     },
     "metadata": {},
     "output_type": "display_data"
    },
    {
     "data": {
      "text/plain": [
       "            Df Sum Sq Mean Sq F value   Pr(>F)    \n",
       "Treatment    1   3618    3618   30.38 3.11e-05 ***\n",
       "Residuals   18   2144     119                     \n",
       "---\n",
       "Signif. codes:  0 ‘***’ 0.001 ‘**’ 0.01 ‘*’ 0.05 ‘.’ 0.1 ‘ ’ 1"
      ]
     },
     "metadata": {},
     "output_type": "display_data"
    },
    {
     "data": {
      "text/plain": [
       "            Df Sum Sq Mean Sq F value Pr(>F)  \n",
       "Treatment    1  34.93   34.93   7.981 0.0112 *\n",
       "Residuals   18  78.77    4.38                 \n",
       "---\n",
       "Signif. codes:  0 ‘***’ 0.001 ‘**’ 0.01 ‘*’ 0.05 ‘.’ 0.1 ‘ ’ 1"
      ]
     },
     "metadata": {},
     "output_type": "display_data"
    },
    {
     "name": "stdout",
     "output_type": "stream",
     "text": [
      "'data.frame':\t100 obs. of  3 variables:\n",
      " $ Treatment: chr  \"Control\" \"Control\" \"Control\" \"Control\" ...\n",
      " $ variable : Factor w/ 5 levels \"F\",\"M\",\"A\",\"H\",..: 1 1 1 1 1 1 1 1 1 1 ...\n",
      " $ value    : num  0 0 1.67 1.67 6.67 ...\n"
     ]
    },
    {
     "data": {
      "text/html": [
       "<strong>png:</strong> 2"
      ],
      "text/latex": [
       "\\textbf{png:} 2"
      ],
      "text/markdown": [
       "**png:** 2"
      ],
      "text/plain": [
       "png \n",
       "  2 "
      ]
     },
     "metadata": {},
     "output_type": "display_data"
    },
    {
     "data": {
      "image/png": "[encoded data removed]",
      "text/plain": [
       "plot without title"
      ]
     },
     "metadata": {
      "image/png": {
       "height": 420,
       "width": 420
      }
     },
     "output_type": "display_data"
    }
   ],
   "source": [
    "#Supplemental Figure 2 Panel b\n",
    "col <- read.csv(\"/global/homes/k/kserrano/Desktop/col1.csv\")\n",
    "str(col)\n",
    "\n",
    "# analysis of variance\n",
    "anova1 <- aov(F ~ Treatment, data = col)\n",
    "summary(anova1)\n",
    "anova2 <- aov(M ~ Treatment, data = col)\n",
    "summary(anova2)\n",
    "anova3 <- aov(A ~ Treatment, data = col)\n",
    "summary(anova3)\n",
    "anova4 <- aov(H ~ Treatment, data = col)\n",
    "summary(anova4)\n",
    "anova5 <- aov(V ~ Treatment, data = col)\n",
    "summary(anova5)\n",
    "\n",
    " # Reshaping harvest1 data\n",
    "col_long <- melt(col, id = \"Treatment\")                     \n",
    "str(col_long)\n",
    "\n",
    "#plotting\n",
    "ggplot(col_long, aes(x = variable, y = value, fill = Treatment)) +  # ggplot function\n",
    "  geom_boxplot() +\n",
    "  stat_boxplot(geom='errorbar') +\n",
    "  theme_bw() +\n",
    "  theme(panel.grid.major = element_blank(), panel.grid.minor = element_blank()) +\n",
    "  scale_fill_manual(values=c(\"#FFCC66\", \"#CC99FF\")) \n",
    "\n",
    "#saving\n",
    "svg(\"col.svg\")\n",
    "\n",
    "# Code of the plot\n",
    "ggplot(col_long, aes(x = variable, y = value, fill = Treatment)) +  # ggplot function\n",
    "  geom_boxplot() +\n",
    "  stat_boxplot(geom='errorbar') +\n",
    "  theme_bw() +\n",
    "  theme(panel.grid.major = element_blank(), panel.grid.minor = element_blank()) +\n",
    "  scale_fill_manual(values=c(\"#FFCC66\", \"#CC99FF\")) \n",
    "\n",
    "# Close the graphics device\n",
    "dev.off() "
   ]
  }
 ],
 "metadata": {
  "kernelspec": {
   "display_name": "seurat_shifter",
   "language": "R",
   "name": "seurat-shifter"
  },
  "language_info": {
   "codemirror_mode": "r",
   "file_extension": ".r",
   "mimetype": "text/x-r-source",
   "name": "R",
   "pygments_lexer": "r",
   "version": "4.2.3"
  }
 },
 "nbformat": 4,
 "nbformat_minor": 5
}
